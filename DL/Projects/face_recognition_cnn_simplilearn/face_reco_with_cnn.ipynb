{
  "nbformat": 4,
  "nbformat_minor": 0,
  "metadata": {
    "colab": {
      "name": "face_reco_with_cnn.ipynb",
      "provenance": []
    },
    "kernelspec": {
      "name": "python3",
      "display_name": "Python 3"
    },
    "language_info": {
      "name": "python"
    }
  },
  "cells": [
    {
      "cell_type": "code",
      "execution_count": 1,
      "metadata": {
        "id": "bbBqv5eGh3ZO"
      },
      "outputs": [],
      "source": [
        "import numpy as np\n",
        "import matplotlib.pyplot as plt"
      ]
    },
    {
      "cell_type": "markdown",
      "source": [
        "## Load Dataset\n",
        "Dataset Details:\n",
        "ORL face database composed of 400 images of size 112 x 92. The images were taken at different times, lighting and facial expressions. The faces are in an upright position in frontal view, with a slight left-right rotation.\n",
        "\n",
        "Link to the Dataset: https://www.dropbox.com/s/i7uzp5yxk7wruva/ORL_faces.npz?dl=0"
      ],
      "metadata": {
        "id": "fSGIBHSZRuPX"
      }
    },
    {
      "cell_type": "code",
      "source": [
        "data = np.load('ORL_faces.npz')"
      ],
      "metadata": {
        "id": "9y_f31Le3J3Y"
      },
      "execution_count": 2,
      "outputs": []
    },
    {
      "cell_type": "code",
      "source": [
        "data.files"
      ],
      "metadata": {
        "colab": {
          "base_uri": "https://localhost:8080/"
        },
        "id": "-r3kPxps4_pr",
        "outputId": "c01df8ae-6d85-4d6b-8e8d-996c18cabacb"
      },
      "execution_count": 3,
      "outputs": [
        {
          "output_type": "execute_result",
          "data": {
            "text/plain": [
              "['testY', 'testX', 'trainX', 'trainY']"
            ]
          },
          "metadata": {},
          "execution_count": 3
        }
      ]
    },
    {
      "cell_type": "code",
      "source": [
        "x_train = data['trainX']\n",
        "x_test = data['testX']\n",
        "\n",
        "y_train = data['trainY']\n",
        "y_test = data['testY']\n",
        "\n",
        "print('Train data size ', y_train.shape)\n",
        "print('Test data size ', y_test.shape)"
      ],
      "metadata": {
        "colab": {
          "base_uri": "https://localhost:8080/"
        },
        "id": "2bzAQB_A5VFx",
        "outputId": "2a4c0919-b6ca-4d6a-b6d9-073d9a69a610"
      },
      "execution_count": 4,
      "outputs": [
        {
          "output_type": "stream",
          "name": "stdout",
          "text": [
            "Train data size  (240,)\n",
            "Test data size  (160,)\n"
          ]
        }
      ]
    },
    {
      "cell_type": "code",
      "source": [
        "y_train"
      ],
      "metadata": {
        "colab": {
          "base_uri": "https://localhost:8080/"
        },
        "id": "TRZEt22t6O1c",
        "outputId": "7f9781f9-4bb7-4212-b9af-79dd259722b9"
      },
      "execution_count": 5,
      "outputs": [
        {
          "output_type": "execute_result",
          "data": {
            "text/plain": [
              "array([ 0,  0,  0,  0,  0,  0,  0,  0,  0,  0,  0,  0,  1,  1,  1,  1,  1,\n",
              "        1,  1,  1,  1,  1,  1,  1,  2,  2,  2,  2,  2,  2,  2,  2,  2,  2,\n",
              "        2,  2,  3,  3,  3,  3,  3,  3,  3,  3,  3,  3,  3,  3,  4,  4,  4,\n",
              "        4,  4,  4,  4,  4,  4,  4,  4,  4,  5,  5,  5,  5,  5,  5,  5,  5,\n",
              "        5,  5,  5,  5,  6,  6,  6,  6,  6,  6,  6,  6,  6,  6,  6,  6,  7,\n",
              "        7,  7,  7,  7,  7,  7,  7,  7,  7,  7,  7,  8,  8,  8,  8,  8,  8,\n",
              "        8,  8,  8,  8,  8,  8,  9,  9,  9,  9,  9,  9,  9,  9,  9,  9,  9,\n",
              "        9, 10, 10, 10, 10, 10, 10, 10, 10, 10, 10, 10, 10, 11, 11, 11, 11,\n",
              "       11, 11, 11, 11, 11, 11, 11, 11, 12, 12, 12, 12, 12, 12, 12, 12, 12,\n",
              "       12, 12, 12, 13, 13, 13, 13, 13, 13, 13, 13, 13, 13, 13, 13, 14, 14,\n",
              "       14, 14, 14, 14, 14, 14, 14, 14, 14, 14, 15, 15, 15, 15, 15, 15, 15,\n",
              "       15, 15, 15, 15, 15, 16, 16, 16, 16, 16, 16, 16, 16, 16, 16, 16, 16,\n",
              "       17, 17, 17, 17, 17, 17, 17, 17, 17, 17, 17, 17, 18, 18, 18, 18, 18,\n",
              "       18, 18, 18, 18, 18, 18, 18, 19, 19, 19, 19, 19, 19, 19, 19, 19, 19,\n",
              "       19, 19], dtype=uint8)"
            ]
          },
          "metadata": {},
          "execution_count": 5
        }
      ]
    },
    {
      "cell_type": "code",
      "source": [
        "y_test"
      ],
      "metadata": {
        "colab": {
          "base_uri": "https://localhost:8080/"
        },
        "id": "c_ns56j56UU8",
        "outputId": "eb8cb4f7-e36c-4af7-bca5-df20b6e47d11"
      },
      "execution_count": 6,
      "outputs": [
        {
          "output_type": "execute_result",
          "data": {
            "text/plain": [
              "array([ 0,  0,  0,  0,  0,  0,  0,  0,  1,  1,  1,  1,  1,  1,  1,  1,  2,\n",
              "        2,  2,  2,  2,  2,  2,  2,  3,  3,  3,  3,  3,  3,  3,  3,  4,  4,\n",
              "        4,  4,  4,  4,  4,  4,  5,  5,  5,  5,  5,  5,  5,  5,  6,  6,  6,\n",
              "        6,  6,  6,  6,  6,  7,  7,  7,  7,  7,  7,  7,  7,  8,  8,  8,  8,\n",
              "        8,  8,  8,  8,  9,  9,  9,  9,  9,  9,  9,  9, 10, 10, 10, 10, 10,\n",
              "       10, 10, 10, 11, 11, 11, 11, 11, 11, 11, 11, 12, 12, 12, 12, 12, 12,\n",
              "       12, 12, 13, 13, 13, 13, 13, 13, 13, 13, 14, 14, 14, 14, 14, 14, 14,\n",
              "       14, 15, 15, 15, 15, 15, 15, 15, 15, 16, 16, 16, 16, 16, 16, 16, 16,\n",
              "       17, 17, 17, 17, 17, 17, 17, 17, 18, 18, 18, 18, 18, 18, 18, 18, 19,\n",
              "       19, 19, 19, 19, 19, 19, 19], dtype=uint8)"
            ]
          },
          "metadata": {},
          "execution_count": 6
        }
      ]
    },
    {
      "cell_type": "markdown",
      "source": [
        "Total 400 images.\n",
        "There are 20 people, 12 images per person in Training set and 8 images per person in the Testing set.\n",
        "\n",
        "## Normalizing the dataset."
      ],
      "metadata": {
        "id": "hKedEl6YSoMx"
      }
    },
    {
      "cell_type": "code",
      "source": [
        "x_train = np.array(x_train, dtype='float32')/255\n",
        "x_test = np.array(x_test, dtype='float32')/255"
      ],
      "metadata": {
        "id": "IfxKmzms7MSk"
      },
      "execution_count": 7,
      "outputs": []
    },
    {
      "cell_type": "markdown",
      "source": [
        "### Spliting the data into train and validation"
      ],
      "metadata": {
        "id": "V0l25vfGsR4T"
      }
    },
    {
      "cell_type": "code",
      "source": [
        "from sklearn.model_selection import train_test_split"
      ],
      "metadata": {
        "id": "uecvIUXD7j0i"
      },
      "execution_count": 8,
      "outputs": []
    },
    {
      "cell_type": "code",
      "source": [
        "x_train, x_val, y_train, y_val = train_test_split(x_train, y_train,\n",
        "                                                  test_size=0.1,\n",
        "                                                  random_state=99)"
      ],
      "metadata": {
        "id": "DbxwUZ-g8VPX"
      },
      "execution_count": 9,
      "outputs": []
    },
    {
      "cell_type": "markdown",
      "source": [
        "Reshaping all the images to size 112x92"
      ],
      "metadata": {
        "id": "Zq4hwQGGs46V"
      }
    },
    {
      "cell_type": "code",
      "source": [
        "image_size = (112, 92, 1)\n",
        "batch_size = 512\n",
        "\n",
        "x_train = x_train.reshape(x_train.shape[0], *image_size)\n",
        "x_test = x_test.reshape(x_test.shape[0], *image_size)\n",
        "x_val = x_val.reshape(x_val.shape[0], *image_size)"
      ],
      "metadata": {
        "id": "xwa97sbP9F-Z"
      },
      "execution_count": 10,
      "outputs": []
    },
    {
      "cell_type": "markdown",
      "source": [
        "## Build Deep CNN model"
      ],
      "metadata": {
        "id": "iiZi7yWvtZsP"
      }
    },
    {
      "cell_type": "code",
      "source": [
        "import keras\n",
        "from keras.models import Sequential\n",
        "from keras.layers import Conv2D, MaxPooling2D, Dense, Flatten, Dropout\n",
        "from tensorflow.keras.optimizers import Adam\n",
        "from keras.callbacks import EarlyStopping"
      ],
      "metadata": {
        "id": "xo83isj4-ZxN"
      },
      "execution_count": 11,
      "outputs": []
    },
    {
      "cell_type": "code",
      "source": [
        "face_rec_model = Sequential()\n",
        "\n",
        "face_rec_model.add(Conv2D(filters=36, \n",
        "                          kernel_size=3,\n",
        "                          activation='relu',\n",
        "                          input_shape= image_size))\n",
        "\n",
        "face_rec_model.add(Conv2D(filters=36, \n",
        "                          kernel_size=3,\n",
        "                          activation='relu',\n",
        "                          input_shape= image_size))\n",
        "\n",
        "face_rec_model.add(MaxPooling2D(pool_size=2))\n",
        "\n",
        "face_rec_model.add(Conv2D(filters=64, \n",
        "                          kernel_size=3,\n",
        "                          activation='relu',\n",
        "                          input_shape= image_size))\n",
        "\n",
        "face_rec_model.add(Conv2D(filters=64, \n",
        "                          kernel_size=3,\n",
        "                          activation='relu',\n",
        "                          input_shape= image_size))\n",
        "\n",
        "face_rec_model.add(MaxPooling2D(pool_size=2))\n",
        "\n",
        "face_rec_model.add(Flatten())\n",
        "\n",
        "face_rec_model.add(Dense(1024, activation='relu'))\n",
        "face_rec_model.add(Dropout(0.5))\n",
        "face_rec_model.add(Dense(512, activation='relu'))\n",
        "face_rec_model.add(Dropout(0.4))\n",
        "\n",
        "face_rec_model.add(Dense(20, activation='softmax'))"
      ],
      "metadata": {
        "id": "qf4D7pyI-eGi"
      },
      "execution_count": 12,
      "outputs": []
    },
    {
      "cell_type": "code",
      "source": [
        "face_rec_model.summary()"
      ],
      "metadata": {
        "colab": {
          "base_uri": "https://localhost:8080/"
        },
        "id": "tHSTe6nXCDfD",
        "outputId": "139fca85-637e-4844-edc2-eeffc1811856"
      },
      "execution_count": 13,
      "outputs": [
        {
          "output_type": "stream",
          "name": "stdout",
          "text": [
            "Model: \"sequential\"\n",
            "_________________________________________________________________\n",
            " Layer (type)                Output Shape              Param #   \n",
            "=================================================================\n",
            " conv2d (Conv2D)             (None, 110, 90, 36)       360       \n",
            "                                                                 \n",
            " conv2d_1 (Conv2D)           (None, 108, 88, 36)       11700     \n",
            "                                                                 \n",
            " max_pooling2d (MaxPooling2D  (None, 54, 44, 36)       0         \n",
            " )                                                               \n",
            "                                                                 \n",
            " conv2d_2 (Conv2D)           (None, 52, 42, 64)        20800     \n",
            "                                                                 \n",
            " conv2d_3 (Conv2D)           (None, 50, 40, 64)        36928     \n",
            "                                                                 \n",
            " max_pooling2d_1 (MaxPooling  (None, 25, 20, 64)       0         \n",
            " 2D)                                                             \n",
            "                                                                 \n",
            " flatten (Flatten)           (None, 32000)             0         \n",
            "                                                                 \n",
            " dense (Dense)               (None, 1024)              32769024  \n",
            "                                                                 \n",
            " dropout (Dropout)           (None, 1024)              0         \n",
            "                                                                 \n",
            " dense_1 (Dense)             (None, 512)               524800    \n",
            "                                                                 \n",
            " dropout_1 (Dropout)         (None, 512)               0         \n",
            "                                                                 \n",
            " dense_2 (Dense)             (None, 20)                10260     \n",
            "                                                                 \n",
            "=================================================================\n",
            "Total params: 33,373,872\n",
            "Trainable params: 33,373,872\n",
            "Non-trainable params: 0\n",
            "_________________________________________________________________\n"
          ]
        }
      ]
    },
    {
      "cell_type": "code",
      "source": [
        "face_rec_model.compile(\n",
        "    loss='sparse_categorical_crossentropy',\n",
        "    optimizer=Adam(learning_rate=0.0001),\n",
        "    metrics=['accuracy']\n",
        ")"
      ],
      "metadata": {
        "id": "pmr0Mt4FCGiS"
      },
      "execution_count": 14,
      "outputs": []
    },
    {
      "cell_type": "code",
      "source": [
        "callback = EarlyStopping(monitor='loss', patience=3)"
      ],
      "metadata": {
        "id": "w_h7U_YtPTu-"
      },
      "execution_count": 15,
      "outputs": []
    },
    {
      "cell_type": "code",
      "source": [
        "history = face_rec_model.fit(np.array(x_train), np.array(y_train),\n",
        "                             batch_size=batch_size,\n",
        "                             epochs=150,\n",
        "                             verbose=2,\n",
        "                             validation_data=(np.array(x_val), np.array(y_val)),\n",
        "                             callbacks=[callback]\n",
        "                             )"
      ],
      "metadata": {
        "colab": {
          "base_uri": "https://localhost:8080/"
        },
        "id": "KwR0jmrqFgw_",
        "outputId": "8c35a959-1b40-4243-8811-ffd426a6164c"
      },
      "execution_count": 16,
      "outputs": [
        {
          "output_type": "stream",
          "name": "stdout",
          "text": [
            "Epoch 1/150\n",
            "1/1 - 21s - loss: 2.9956 - accuracy: 0.0463 - val_loss: 2.9941 - val_accuracy: 0.1250 - 21s/epoch - 21s/step\n",
            "Epoch 2/150\n",
            "1/1 - 13s - loss: 2.9941 - accuracy: 0.0926 - val_loss: 3.0013 - val_accuracy: 0.1250 - 13s/epoch - 13s/step\n",
            "Epoch 3/150\n",
            "1/1 - 13s - loss: 2.9766 - accuracy: 0.0602 - val_loss: 3.0072 - val_accuracy: 0.0417 - 13s/epoch - 13s/step\n",
            "Epoch 4/150\n",
            "1/1 - 11s - loss: 2.9862 - accuracy: 0.1204 - val_loss: 3.0117 - val_accuracy: 0.0417 - 11s/epoch - 11s/step\n",
            "Epoch 5/150\n",
            "1/1 - 11s - loss: 2.9758 - accuracy: 0.0556 - val_loss: 3.0155 - val_accuracy: 0.0417 - 11s/epoch - 11s/step\n",
            "Epoch 6/150\n",
            "1/1 - 11s - loss: 2.9611 - accuracy: 0.0602 - val_loss: 3.0209 - val_accuracy: 0.0417 - 11s/epoch - 11s/step\n",
            "Epoch 7/150\n",
            "1/1 - 11s - loss: 2.9531 - accuracy: 0.0787 - val_loss: 3.0262 - val_accuracy: 0.0000e+00 - 11s/epoch - 11s/step\n",
            "Epoch 8/150\n",
            "1/1 - 11s - loss: 2.9489 - accuracy: 0.0741 - val_loss: 3.0315 - val_accuracy: 0.0000e+00 - 11s/epoch - 11s/step\n",
            "Epoch 9/150\n",
            "1/1 - 11s - loss: 2.9394 - accuracy: 0.1111 - val_loss: 3.0351 - val_accuracy: 0.0000e+00 - 11s/epoch - 11s/step\n",
            "Epoch 10/150\n",
            "1/1 - 12s - loss: 2.9444 - accuracy: 0.0926 - val_loss: 3.0364 - val_accuracy: 0.0000e+00 - 12s/epoch - 12s/step\n",
            "Epoch 11/150\n",
            "1/1 - 11s - loss: 2.9304 - accuracy: 0.1111 - val_loss: 3.0352 - val_accuracy: 0.0000e+00 - 11s/epoch - 11s/step\n",
            "Epoch 12/150\n",
            "1/1 - 11s - loss: 2.8983 - accuracy: 0.1250 - val_loss: 3.0329 - val_accuracy: 0.0000e+00 - 11s/epoch - 11s/step\n",
            "Epoch 13/150\n",
            "1/1 - 11s - loss: 2.9047 - accuracy: 0.1204 - val_loss: 3.0306 - val_accuracy: 0.0000e+00 - 11s/epoch - 11s/step\n",
            "Epoch 14/150\n",
            "1/1 - 11s - loss: 2.8910 - accuracy: 0.1204 - val_loss: 3.0264 - val_accuracy: 0.0000e+00 - 11s/epoch - 11s/step\n",
            "Epoch 15/150\n",
            "1/1 - 11s - loss: 2.8818 - accuracy: 0.1343 - val_loss: 3.0167 - val_accuracy: 0.0000e+00 - 11s/epoch - 11s/step\n",
            "Epoch 16/150\n",
            "1/1 - 11s - loss: 2.8754 - accuracy: 0.1528 - val_loss: 3.0047 - val_accuracy: 0.0000e+00 - 11s/epoch - 11s/step\n",
            "Epoch 17/150\n",
            "1/1 - 11s - loss: 2.7970 - accuracy: 0.2315 - val_loss: 2.9887 - val_accuracy: 0.0000e+00 - 11s/epoch - 11s/step\n",
            "Epoch 18/150\n",
            "1/1 - 11s - loss: 2.8438 - accuracy: 0.1389 - val_loss: 2.9655 - val_accuracy: 0.0417 - 11s/epoch - 11s/step\n",
            "Epoch 19/150\n",
            "1/1 - 11s - loss: 2.8234 - accuracy: 0.1898 - val_loss: 2.9334 - val_accuracy: 0.1250 - 11s/epoch - 11s/step\n",
            "Epoch 20/150\n",
            "1/1 - 11s - loss: 2.7688 - accuracy: 0.1852 - val_loss: 2.8975 - val_accuracy: 0.2083 - 11s/epoch - 11s/step\n",
            "Epoch 21/150\n",
            "1/1 - 11s - loss: 2.7693 - accuracy: 0.2222 - val_loss: 2.8597 - val_accuracy: 0.2500 - 11s/epoch - 11s/step\n",
            "Epoch 22/150\n",
            "1/1 - 11s - loss: 2.7090 - accuracy: 0.2546 - val_loss: 2.8181 - val_accuracy: 0.2500 - 11s/epoch - 11s/step\n",
            "Epoch 23/150\n",
            "1/1 - 11s - loss: 2.6626 - accuracy: 0.2870 - val_loss: 2.7802 - val_accuracy: 0.2917 - 11s/epoch - 11s/step\n",
            "Epoch 24/150\n",
            "1/1 - 11s - loss: 2.6705 - accuracy: 0.2176 - val_loss: 2.7474 - val_accuracy: 0.3333 - 11s/epoch - 11s/step\n",
            "Epoch 25/150\n",
            "1/1 - 11s - loss: 2.5955 - accuracy: 0.3194 - val_loss: 2.7084 - val_accuracy: 0.3333 - 11s/epoch - 11s/step\n",
            "Epoch 26/150\n",
            "1/1 - 11s - loss: 2.5803 - accuracy: 0.2454 - val_loss: 2.6613 - val_accuracy: 0.3750 - 11s/epoch - 11s/step\n",
            "Epoch 27/150\n",
            "1/1 - 11s - loss: 2.5858 - accuracy: 0.2824 - val_loss: 2.6097 - val_accuracy: 0.3750 - 11s/epoch - 11s/step\n",
            "Epoch 28/150\n",
            "1/1 - 11s - loss: 2.4455 - accuracy: 0.3380 - val_loss: 2.5664 - val_accuracy: 0.4167 - 11s/epoch - 11s/step\n",
            "Epoch 29/150\n",
            "1/1 - 11s - loss: 2.4835 - accuracy: 0.3102 - val_loss: 2.5235 - val_accuracy: 0.3750 - 11s/epoch - 11s/step\n",
            "Epoch 30/150\n",
            "1/1 - 11s - loss: 2.3771 - accuracy: 0.3519 - val_loss: 2.4721 - val_accuracy: 0.4167 - 11s/epoch - 11s/step\n",
            "Epoch 31/150\n",
            "1/1 - 11s - loss: 2.3568 - accuracy: 0.3333 - val_loss: 2.4162 - val_accuracy: 0.4167 - 11s/epoch - 11s/step\n",
            "Epoch 32/150\n",
            "1/1 - 11s - loss: 2.3015 - accuracy: 0.3565 - val_loss: 2.3480 - val_accuracy: 0.4167 - 11s/epoch - 11s/step\n",
            "Epoch 33/150\n",
            "1/1 - 11s - loss: 2.2027 - accuracy: 0.4213 - val_loss: 2.2836 - val_accuracy: 0.5000 - 11s/epoch - 11s/step\n",
            "Epoch 34/150\n",
            "1/1 - 11s - loss: 2.1498 - accuracy: 0.4630 - val_loss: 2.2163 - val_accuracy: 0.5417 - 11s/epoch - 11s/step\n",
            "Epoch 35/150\n",
            "1/1 - 11s - loss: 2.0164 - accuracy: 0.4769 - val_loss: 2.1435 - val_accuracy: 0.5833 - 11s/epoch - 11s/step\n",
            "Epoch 36/150\n",
            "1/1 - 11s - loss: 2.0111 - accuracy: 0.4954 - val_loss: 2.0767 - val_accuracy: 0.6250 - 11s/epoch - 11s/step\n",
            "Epoch 37/150\n",
            "1/1 - 11s - loss: 1.9572 - accuracy: 0.4954 - val_loss: 2.0013 - val_accuracy: 0.6250 - 11s/epoch - 11s/step\n",
            "Epoch 38/150\n",
            "1/1 - 11s - loss: 1.8679 - accuracy: 0.4907 - val_loss: 1.9390 - val_accuracy: 0.6250 - 11s/epoch - 11s/step\n",
            "Epoch 39/150\n",
            "1/1 - 11s - loss: 1.8664 - accuracy: 0.4676 - val_loss: 1.8742 - val_accuracy: 0.6667 - 11s/epoch - 11s/step\n",
            "Epoch 40/150\n",
            "1/1 - 11s - loss: 1.7379 - accuracy: 0.5602 - val_loss: 1.7962 - val_accuracy: 0.6667 - 11s/epoch - 11s/step\n",
            "Epoch 41/150\n",
            "1/1 - 11s - loss: 1.6637 - accuracy: 0.5509 - val_loss: 1.7136 - val_accuracy: 0.6667 - 11s/epoch - 11s/step\n",
            "Epoch 42/150\n",
            "1/1 - 11s - loss: 1.5786 - accuracy: 0.5880 - val_loss: 1.6277 - val_accuracy: 0.7083 - 11s/epoch - 11s/step\n",
            "Epoch 43/150\n",
            "1/1 - 11s - loss: 1.5579 - accuracy: 0.5370 - val_loss: 1.5414 - val_accuracy: 0.6667 - 11s/epoch - 11s/step\n",
            "Epoch 44/150\n",
            "1/1 - 11s - loss: 1.4494 - accuracy: 0.5880 - val_loss: 1.4533 - val_accuracy: 0.7917 - 11s/epoch - 11s/step\n",
            "Epoch 45/150\n",
            "1/1 - 11s - loss: 1.3812 - accuracy: 0.6389 - val_loss: 1.3793 - val_accuracy: 0.7500 - 11s/epoch - 11s/step\n",
            "Epoch 46/150\n",
            "1/1 - 11s - loss: 1.3272 - accuracy: 0.6435 - val_loss: 1.3121 - val_accuracy: 0.7917 - 11s/epoch - 11s/step\n",
            "Epoch 47/150\n",
            "1/1 - 11s - loss: 1.2817 - accuracy: 0.6574 - val_loss: 1.2788 - val_accuracy: 0.7500 - 11s/epoch - 11s/step\n",
            "Epoch 48/150\n",
            "1/1 - 11s - loss: 1.2305 - accuracy: 0.6574 - val_loss: 1.2643 - val_accuracy: 0.7500 - 11s/epoch - 11s/step\n",
            "Epoch 49/150\n",
            "1/1 - 11s - loss: 1.2048 - accuracy: 0.6574 - val_loss: 1.2333 - val_accuracy: 0.7500 - 11s/epoch - 11s/step\n",
            "Epoch 50/150\n",
            "1/1 - 11s - loss: 1.1059 - accuracy: 0.6806 - val_loss: 1.1496 - val_accuracy: 0.8333 - 11s/epoch - 11s/step\n",
            "Epoch 51/150\n",
            "1/1 - 11s - loss: 1.0194 - accuracy: 0.7361 - val_loss: 1.0146 - val_accuracy: 0.8333 - 11s/epoch - 11s/step\n",
            "Epoch 52/150\n",
            "1/1 - 11s - loss: 1.0003 - accuracy: 0.6944 - val_loss: 0.8967 - val_accuracy: 0.8333 - 11s/epoch - 11s/step\n",
            "Epoch 53/150\n",
            "1/1 - 11s - loss: 0.9412 - accuracy: 0.7315 - val_loss: 0.8396 - val_accuracy: 0.8333 - 11s/epoch - 11s/step\n",
            "Epoch 54/150\n",
            "1/1 - 11s - loss: 0.9842 - accuracy: 0.7130 - val_loss: 0.8034 - val_accuracy: 0.8333 - 11s/epoch - 11s/step\n",
            "Epoch 55/150\n",
            "1/1 - 11s - loss: 0.8116 - accuracy: 0.7963 - val_loss: 0.7523 - val_accuracy: 0.7917 - 11s/epoch - 11s/step\n",
            "Epoch 56/150\n",
            "1/1 - 11s - loss: 0.7583 - accuracy: 0.8194 - val_loss: 0.7169 - val_accuracy: 0.7917 - 11s/epoch - 11s/step\n",
            "Epoch 57/150\n",
            "1/1 - 11s - loss: 0.7403 - accuracy: 0.7917 - val_loss: 0.7016 - val_accuracy: 0.8333 - 11s/epoch - 11s/step\n",
            "Epoch 58/150\n",
            "1/1 - 11s - loss: 0.6814 - accuracy: 0.8472 - val_loss: 0.7119 - val_accuracy: 0.8333 - 11s/epoch - 11s/step\n",
            "Epoch 59/150\n",
            "1/1 - 11s - loss: 0.6330 - accuracy: 0.8194 - val_loss: 0.6636 - val_accuracy: 0.8333 - 11s/epoch - 11s/step\n",
            "Epoch 60/150\n",
            "1/1 - 11s - loss: 0.5846 - accuracy: 0.8611 - val_loss: 0.5764 - val_accuracy: 0.8333 - 11s/epoch - 11s/step\n",
            "Epoch 61/150\n",
            "1/1 - 11s - loss: 0.5758 - accuracy: 0.8519 - val_loss: 0.4738 - val_accuracy: 0.8333 - 11s/epoch - 11s/step\n",
            "Epoch 62/150\n",
            "1/1 - 11s - loss: 0.5438 - accuracy: 0.8380 - val_loss: 0.3854 - val_accuracy: 0.9583 - 11s/epoch - 11s/step\n",
            "Epoch 63/150\n",
            "1/1 - 11s - loss: 0.4716 - accuracy: 0.8796 - val_loss: 0.3308 - val_accuracy: 0.9583 - 11s/epoch - 11s/step\n",
            "Epoch 64/150\n",
            "1/1 - 11s - loss: 0.4932 - accuracy: 0.8426 - val_loss: 0.3334 - val_accuracy: 0.9583 - 11s/epoch - 11s/step\n",
            "Epoch 65/150\n",
            "1/1 - 11s - loss: 0.4577 - accuracy: 0.8657 - val_loss: 0.3506 - val_accuracy: 0.9583 - 11s/epoch - 11s/step\n",
            "Epoch 66/150\n",
            "1/1 - 11s - loss: 0.4077 - accuracy: 0.8981 - val_loss: 0.3613 - val_accuracy: 0.8750 - 11s/epoch - 11s/step\n",
            "Epoch 67/150\n",
            "1/1 - 11s - loss: 0.3674 - accuracy: 0.8935 - val_loss: 0.3699 - val_accuracy: 0.8333 - 11s/epoch - 11s/step\n",
            "Epoch 68/150\n",
            "1/1 - 11s - loss: 0.3590 - accuracy: 0.9074 - val_loss: 0.3504 - val_accuracy: 0.8750 - 11s/epoch - 11s/step\n",
            "Epoch 69/150\n",
            "1/1 - 11s - loss: 0.3590 - accuracy: 0.8981 - val_loss: 0.2954 - val_accuracy: 0.9167 - 11s/epoch - 11s/step\n",
            "Epoch 70/150\n",
            "1/1 - 11s - loss: 0.3253 - accuracy: 0.9259 - val_loss: 0.2983 - val_accuracy: 0.9583 - 11s/epoch - 11s/step\n",
            "Epoch 71/150\n",
            "1/1 - 11s - loss: 0.3482 - accuracy: 0.8981 - val_loss: 0.2814 - val_accuracy: 0.9583 - 11s/epoch - 11s/step\n",
            "Epoch 72/150\n",
            "1/1 - 11s - loss: 0.3748 - accuracy: 0.8889 - val_loss: 0.2098 - val_accuracy: 0.9583 - 11s/epoch - 11s/step\n",
            "Epoch 73/150\n",
            "1/1 - 11s - loss: 0.2670 - accuracy: 0.9213 - val_loss: 0.1711 - val_accuracy: 0.9583 - 11s/epoch - 11s/step\n",
            "Epoch 74/150\n",
            "1/1 - 11s - loss: 0.2788 - accuracy: 0.9306 - val_loss: 0.1460 - val_accuracy: 1.0000 - 11s/epoch - 11s/step\n",
            "Epoch 75/150\n",
            "1/1 - 11s - loss: 0.2626 - accuracy: 0.9398 - val_loss: 0.1432 - val_accuracy: 1.0000 - 11s/epoch - 11s/step\n",
            "Epoch 76/150\n",
            "1/1 - 11s - loss: 0.2545 - accuracy: 0.9213 - val_loss: 0.1618 - val_accuracy: 0.9583 - 11s/epoch - 11s/step\n",
            "Epoch 77/150\n",
            "1/1 - 11s - loss: 0.2054 - accuracy: 0.9676 - val_loss: 0.1814 - val_accuracy: 0.9583 - 11s/epoch - 11s/step\n",
            "Epoch 78/150\n",
            "1/1 - 11s - loss: 0.2142 - accuracy: 0.9352 - val_loss: 0.1504 - val_accuracy: 0.9583 - 11s/epoch - 11s/step\n",
            "Epoch 79/150\n",
            "1/1 - 11s - loss: 0.2050 - accuracy: 0.9583 - val_loss: 0.1002 - val_accuracy: 1.0000 - 11s/epoch - 11s/step\n",
            "Epoch 80/150\n",
            "1/1 - 11s - loss: 0.1806 - accuracy: 0.9630 - val_loss: 0.0832 - val_accuracy: 1.0000 - 11s/epoch - 11s/step\n",
            "Epoch 81/150\n",
            "1/1 - 11s - loss: 0.1701 - accuracy: 0.9583 - val_loss: 0.0843 - val_accuracy: 1.0000 - 11s/epoch - 11s/step\n",
            "Epoch 82/150\n",
            "1/1 - 11s - loss: 0.1349 - accuracy: 0.9861 - val_loss: 0.0989 - val_accuracy: 1.0000 - 11s/epoch - 11s/step\n",
            "Epoch 83/150\n",
            "1/1 - 11s - loss: 0.1233 - accuracy: 0.9815 - val_loss: 0.1335 - val_accuracy: 0.9583 - 11s/epoch - 11s/step\n",
            "Epoch 84/150\n",
            "1/1 - 11s - loss: 0.1447 - accuracy: 0.9583 - val_loss: 0.1354 - val_accuracy: 0.9583 - 11s/epoch - 11s/step\n",
            "Epoch 85/150\n",
            "1/1 - 11s - loss: 0.1384 - accuracy: 0.9769 - val_loss: 0.1081 - val_accuracy: 0.9583 - 11s/epoch - 11s/step\n",
            "Epoch 86/150\n",
            "1/1 - 11s - loss: 0.1071 - accuracy: 0.9861 - val_loss: 0.0730 - val_accuracy: 1.0000 - 11s/epoch - 11s/step\n",
            "Epoch 87/150\n",
            "1/1 - 11s - loss: 0.1424 - accuracy: 0.9722 - val_loss: 0.0509 - val_accuracy: 1.0000 - 11s/epoch - 11s/step\n",
            "Epoch 88/150\n",
            "1/1 - 11s - loss: 0.1589 - accuracy: 0.9537 - val_loss: 0.0451 - val_accuracy: 1.0000 - 11s/epoch - 11s/step\n",
            "Epoch 89/150\n",
            "1/1 - 11s - loss: 0.0739 - accuracy: 0.9907 - val_loss: 0.0463 - val_accuracy: 1.0000 - 11s/epoch - 11s/step\n",
            "Epoch 90/150\n",
            "1/1 - 11s - loss: 0.1460 - accuracy: 0.9583 - val_loss: 0.0492 - val_accuracy: 1.0000 - 11s/epoch - 11s/step\n",
            "Epoch 91/150\n",
            "1/1 - 11s - loss: 0.1094 - accuracy: 0.9769 - val_loss: 0.0594 - val_accuracy: 1.0000 - 11s/epoch - 11s/step\n",
            "Epoch 92/150\n",
            "1/1 - 11s - loss: 0.0715 - accuracy: 0.9954 - val_loss: 0.0773 - val_accuracy: 0.9583 - 11s/epoch - 11s/step\n",
            "Epoch 93/150\n",
            "1/1 - 11s - loss: 0.0818 - accuracy: 0.9815 - val_loss: 0.0688 - val_accuracy: 0.9583 - 11s/epoch - 11s/step\n",
            "Epoch 94/150\n",
            "1/1 - 11s - loss: 0.0858 - accuracy: 0.9722 - val_loss: 0.0520 - val_accuracy: 0.9583 - 11s/epoch - 11s/step\n",
            "Epoch 95/150\n",
            "1/1 - 11s - loss: 0.0926 - accuracy: 0.9769 - val_loss: 0.0354 - val_accuracy: 1.0000 - 11s/epoch - 11s/step\n"
          ]
        }
      ]
    },
    {
      "cell_type": "code",
      "source": [
        "print(history.history.keys())"
      ],
      "metadata": {
        "colab": {
          "base_uri": "https://localhost:8080/"
        },
        "id": "5zdgadzkHTDY",
        "outputId": "640a12b1-dadf-485f-b0d1-93359fa1ce68"
      },
      "execution_count": 17,
      "outputs": [
        {
          "output_type": "stream",
          "name": "stdout",
          "text": [
            "dict_keys(['loss', 'accuracy', 'val_loss', 'val_accuracy'])\n"
          ]
        }
      ]
    },
    {
      "cell_type": "markdown",
      "source": [
        "## Model Evaluation"
      ],
      "metadata": {
        "id": "0t1mJxu_tmlt"
      }
    },
    {
      "cell_type": "code",
      "source": [
        "eval = face_rec_model.evaluate(np.array(x_test), np.array(y_test), verbose=0)\n",
        "\n",
        "print('Test loss ', eval[0])\n",
        "print('Test Acc ', eval[1])"
      ],
      "metadata": {
        "colab": {
          "base_uri": "https://localhost:8080/"
        },
        "id": "O5oS7PzQGckN",
        "outputId": "798f2008-aea2-4fe7-d11f-05b61df3d88e"
      },
      "execution_count": 18,
      "outputs": [
        {
          "output_type": "stream",
          "name": "stdout",
          "text": [
            "Test loss  0.21071676909923553\n",
            "Test Acc  0.949999988079071\n"
          ]
        }
      ]
    },
    {
      "cell_type": "code",
      "source": [
        "plt.title('Model Acc')\n",
        "plt.plot(history.history['accuracy'])\n",
        "plt.plot(history.history['val_accuracy'])\n",
        "plt.xlabel('epoch')\n",
        "plt.ylabel('acc')\n",
        "plt.legend(['train', 'val'])\n",
        "plt.show()"
      ],
      "metadata": {
        "colab": {
          "base_uri": "https://localhost:8080/",
          "height": 295
        },
        "id": "iB3-UWtpHQVk",
        "outputId": "193c739f-d65e-4bf8-a830-0f6c4ea5d413"
      },
      "execution_count": 19,
      "outputs": [
        {
          "output_type": "display_data",
          "data": {
            "image/png": "[encoded data removed]",
            "text/plain": [
              "<Figure size 432x288 with 1 Axes>"
            ]
          },
          "metadata": {
            "needs_background": "light"
          }
        }
      ]
    },
    {
      "cell_type": "code",
      "source": [
        "plt.title('Model Loss')\n",
        "plt.plot(history.history['loss'])\n",
        "plt.plot(history.history['val_loss'])\n",
        "plt.xlabel('epoch')\n",
        "plt.ylabel('loss')\n",
        "plt.legend(['train', 'val'])\n",
        "plt.show()"
      ],
      "metadata": {
        "colab": {
          "base_uri": "https://localhost:8080/",
          "height": 295
        },
        "id": "M4B3FTmoIapn",
        "outputId": "8b93a29e-1095-4670-ed20-ada2908bbd55"
      },
      "execution_count": 20,
      "outputs": [
        {
          "output_type": "display_data",
          "data": {
            "image/png": "[encoded data removed]",
            "text/plain": [
              "<Figure size 432x288 with 1 Axes>"
            ]
          },
          "metadata": {
            "needs_background": "light"
          }
        }
      ]
    },
    {
      "cell_type": "code",
      "source": [
        "from sklearn.metrics import accuracy_score\n",
        "from sklearn.metrics import confusion_matrix\n",
        "from sklearn.metrics import classification_report\n",
        "from sklearn.metrics import roc_curve, auc\n",
        "\n",
        "import seaborn as sns\n",
        "\n",
        "from keras.utils import np_utils"
      ],
      "metadata": {
        "id": "65WNH4hJJEk7"
      },
      "execution_count": 21,
      "outputs": []
    },
    {
      "cell_type": "code",
      "source": [
        "pred = np.array(face_rec_model.predict(x_test))\n",
        "\n",
        "y_pred = np.argmax(face_rec_model.predict(x_test), axis=-1)"
      ],
      "metadata": {
        "id": "hEZr8RN1Io0f"
      },
      "execution_count": 22,
      "outputs": []
    },
    {
      "cell_type": "code",
      "source": [
        "acc_score = accuracy_score(y_test, y_pred)\n",
        "print('Acc Score ', acc_score)"
      ],
      "metadata": {
        "colab": {
          "base_uri": "https://localhost:8080/"
        },
        "id": "UR-yb_t5JA7-",
        "outputId": "49a0b28e-3da4-4a0b-915c-371270461b26"
      },
      "execution_count": 23,
      "outputs": [
        {
          "output_type": "stream",
          "name": "stdout",
          "text": [
            "Acc Score  0.95\n"
          ]
        }
      ]
    },
    {
      "cell_type": "code",
      "source": [
        "cmatrix = confusion_matrix(y_test, y_pred)\n",
        "\n",
        "ax = sns.heatmap(cmatrix, annot=True)\n",
        "ax.set_title('Confusion Matrix')\n",
        "ax.set_xlabel('Predicted Classes')\n",
        "ax.set_ylabel('Actual Classes')\n",
        "\n",
        "plt.show()"
      ],
      "metadata": {
        "colab": {
          "base_uri": "https://localhost:8080/",
          "height": 295
        },
        "id": "iQ1KKGBsL9LI",
        "outputId": "14359fb0-98b0-40a4-bf24-88ebb3133029"
      },
      "execution_count": 24,
      "outputs": [
        {
          "output_type": "display_data",
          "data": {
            "image/png": "[encoded data removed]",
            "text/plain": [
              "<Figure size 432x288 with 2 Axes>"
            ]
          },
          "metadata": {
            "needs_background": "light"
          }
        }
      ]
    }
  ]
}